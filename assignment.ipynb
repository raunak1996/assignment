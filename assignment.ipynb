{
 "cells": [
  {
   "cell_type": "code",
   "execution_count": 2,
   "id": "3eb6f3b6",
   "metadata": {},
   "outputs": [
    {
     "name": "stdout",
     "output_type": "stream",
     "text": [
      "Python:Exercises::PHP:exercises:\n"
     ]
    }
   ],
   "source": [
    "a = 'Python Exercises, PHP exercises.'\n",
    "t = str.maketrans(' ,.', ':::') \n",
    "b = a.translate(t)\n",
    "print(b)\n"
   ]
  },
  {
   "cell_type": "code",
   "execution_count": 9,
   "id": "19fbae3b",
   "metadata": {},
   "outputs": [
    {
     "name": "stdout",
     "output_type": "stream",
     "text": [
      "         SUMMARY\n",
      "0    hello world\n",
      "1           test\n",
      "2  four five six\n"
     ]
    }
   ],
   "source": [
    "import pandas as dp\n",
    "import re\n",
    "sample = {'SUMMARY': ['hello, world!', '      test', '123four, five:; six...']}\n",
    "fd = dp.DataFrame(sample)\n",
    "def clean_text(text):\n",
    "    return re.sub(r'[^a-zA-Z\\s]', '', text).strip()\n",
    "fd['SUMMARY'] = fd['SUMMARY'].apply(clean_text)\n",
    "print(fd)\n"
   ]
  },
  {
   "cell_type": "code",
   "execution_count": 17,
   "id": "35f48c7e",
   "metadata": {},
   "outputs": [
    {
     "name": "stdout",
     "output_type": "stream",
     "text": [
      "['raunak', 'likes', 'walk', 'alone', 'night']\n"
     ]
    }
   ],
   "source": [
    "import re\n",
    "def find_long_words(txt):\n",
    "    pattern = re.compile(r'\\b\\w{4,}\\b')\n",
    "    matches = pattern.findall(txt)    \n",
    "    return matches\n",
    "a = \" raunak likes to walk alone at night \"\n",
    "long_words = find_long_words(a)\n",
    "print(long_words)\n"
   ]
  },
  {
   "cell_type": "code",
   "execution_count": 34,
   "id": "ed510aaf",
   "metadata": {},
   "outputs": [
    {
     "name": "stdout",
     "output_type": "stream",
     "text": [
      "['likes', 'walk', 'alone', 'night']\n"
     ]
    }
   ],
   "source": [
    "import re\n",
    "def find_specific_length_words(text):\n",
    "    pattern = re.compile(r'\\b\\w{3}\\b|\\b\\w{4}\\b|\\b\\w{5}\\b')\n",
    "    matches = pattern.findall(text)\n",
    "    filtered_matches = [word for word in matches if 3 <= len(word) <= 5]    \n",
    "    return filtered_matches\n",
    "a = \"raunak likes to walk alone at night\"\n",
    "specific_length_words = find_specific_length_words(a)\n",
    "print(specific_length_words)\n"
   ]
  },
  {
   "cell_type": "code",
   "execution_count": 50,
   "id": "4136464c",
   "metadata": {},
   "outputs": [
    {
     "name": "stdout",
     "output_type": "stream",
     "text": [
      "['example.com', 'hr@fliprobo.com', 'github.com', 'HelloData Science World', 'DataScientist']\n"
     ]
    }
   ],
   "source": [
    "import re\n",
    "def remove_parentheses(strings):\n",
    "    pattern = re.compile(r' ?\\(| ?\\)') \n",
    "    cleaned_strings = [pattern.sub('', string).strip() for string in strings]   \n",
    "    return cleaned_strings\n",
    "a = [\"example (.com)\", \"hr@fliprobo (.com)\", \"github (.com)\", \"Hello (Data Science World)\", \"Data (Scientist)\"]\n",
    "c = remove_parentheses(a)\n",
    "print(c)\n"
   ]
  },
  {
   "cell_type": "code",
   "execution_count": 51,
   "id": "533aab3a",
   "metadata": {},
   "outputs": [
    {
     "name": "stdout",
     "output_type": "stream",
     "text": [
      "Sample txt has been written to 'sample.txt'.\n",
      "example\n",
      "hr@fliprobo\n",
      "github\n",
      "Hello\n",
      "Data\n",
      "\n"
     ]
    }
   ],
   "source": [
    "def write_a_to_file(filename):\n",
    "    a = [\n",
    "        \"example (.com)\",\n",
    "        \"hr@fliprobo (.com)\",\n",
    "        \"github (.com)\",\n",
    "        \"Hello (Data Science World)\",\n",
    "        \"Data (Scientist)\"\n",
    "    ]\n",
    "    with open(filename, 'w') as file:\n",
    "        for line in a:\n",
    "            file.write(line + '\\n')\n",
    "filename = 'sample.txt'\n",
    "write_a_to_file(filename)\n",
    "print(f\"Sample txt has been written to '{filename}'.\")\n",
    "\n",
    "import re\n",
    "def clean_text_from_file(input_filename, output_filename):\n",
    "    pattern = re.compile(r'\\s*\\(.*?\\)')\n",
    "    with open(input_filename, 'r') as file:\n",
    "        lines = file.readlines()\n",
    "    cleaned_lines = [pattern.sub('', line).strip() for line in lines]\n",
    "    with open(output_filename, 'w') as file:\n",
    "        for line in cleaned_lines:\n",
    "            file.write(line + '\\n')\n",
    "input_filename = 'sample.txt'\n",
    "output_filename = 'cleaned_sample.txt'\n",
    "clean_text_from_file(input_filename, output_filename)\n",
    "with open(output_filename, 'r') as file:\n",
    "    print(file.read())\n"
   ]
  },
  {
   "cell_type": "code",
   "execution_count": 53,
   "id": "383e6bcd",
   "metadata": {},
   "outputs": [
    {
     "name": "stdout",
     "output_type": "stream",
     "text": [
      "['Importance', 'Of', 'Regular', 'Expressions', 'In', 'Python']\n"
     ]
    }
   ],
   "source": [
    "import re\n",
    "def split_by_uppercase(s):\n",
    "    pattern = re.compile(r'[A-Z][a-z]*')    \n",
    "    segments = pattern.findall(s)\n",
    "    return segments\n",
    "a = \"ImportanceOfRegularExpressionsInPython\"\n",
    "output = split_by_uppercase(a)\n",
    "print(output)\n"
   ]
  },
  {
   "cell_type": "code",
   "execution_count": 55,
   "id": "fc5a15db",
   "metadata": {},
   "outputs": [
    {
     "name": "stdout",
     "output_type": "stream",
     "text": [
      "RegularExpression 1IsAn 2ImportantTopic 3InPython\n"
     ]
    }
   ],
   "source": [
    "import re\n",
    "def insert_spaces_between_number_words(txt):\n",
    "    pattern = re.compile(r'(?<=\\D)(?=\\d)')\n",
    "    spaced_txt = pattern.sub(' ', txt)\n",
    "    return spaced_txt\n",
    "a = \"RegularExpression1IsAn2ImportantTopic3InPython\"\n",
    "result = insert_spaces_between_number_words(a)\n",
    "print(result)\n"
   ]
  },
  {
   "cell_type": "code",
   "execution_count": 57,
   "id": "108706f8",
   "metadata": {},
   "outputs": [
    {
     "name": "stdout",
     "output_type": "stream",
     "text": [
      "Regularexpression 1 Isan 2 Importanttopic 3 Inpython\n"
     ]
    }
   ],
   "source": [
    "import re\n",
    "def insert_spaces_between_words(txt):\n",
    "    pattern =  re.compile(r'(?<=[a-zA-Z])(?=\\d)|(?<=[a-zA-Z])(?=[A-Z])|(?<=\\d)(?=[A-Z])')\n",
    "    spaced_txt = pattern.sub(' ', txt)    \n",
    "    return spaced_txt\n",
    "a = \"Regularexpression1Isan2Importanttopic3Inpython\"\n",
    "result = insert_spaces_between_words(a)\n",
    "print(result)\n"
   ]
  },
  {
   "cell_type": "code",
   "execution_count": 62,
   "id": "33c26479",
   "metadata": {},
   "outputs": [
    {
     "name": "stdout",
     "output_type": "stream",
     "text": [
      "Original DataFrame:\n",
      "       Country          Region  Happiness Rank  Happiness Score  \\\n",
      "0  Switzerland  Western Europe               1            7.587   \n",
      "1      Iceland  Western Europe               2            7.561   \n",
      "2      Denmark  Western Europe               3            7.527   \n",
      "3       Norway  Western Europe               4            7.522   \n",
      "4       Canada   North America               5            7.427   \n",
      "\n",
      "   Standard Error  Economy (GDP per Capita)   Family  \\\n",
      "0         0.03411                   1.39651  1.34951   \n",
      "1         0.04884                   1.30232  1.40223   \n",
      "2         0.03328                   1.32548  1.36058   \n",
      "3         0.03880                   1.45900  1.33095   \n",
      "4         0.03553                   1.32629  1.32261   \n",
      "\n",
      "   Health (Life Expectancy)  Freedom  Trust (Government Corruption)  \\\n",
      "0                   0.94143  0.66557                        0.41978   \n",
      "1                   0.94784  0.62877                        0.14145   \n",
      "2                   0.87464  0.64938                        0.48357   \n",
      "3                   0.88521  0.66973                        0.36503   \n",
      "4                   0.90563  0.63297                        0.32957   \n",
      "\n",
      "   Generosity  Dystopia Residual  \n",
      "0     0.29678            2.51738  \n",
      "1     0.43630            2.70201  \n",
      "2     0.34139            2.49204  \n",
      "3     0.34699            2.46531  \n",
      "4     0.45811            2.45176  \n",
      "\n",
      "Updated DataFrame with 'first_five_letters':\n",
      "       Country          Region  Happiness Rank  Happiness Score  \\\n",
      "0  Switzerland  Western Europe               1            7.587   \n",
      "1      Iceland  Western Europe               2            7.561   \n",
      "2      Denmark  Western Europe               3            7.527   \n",
      "3       Norway  Western Europe               4            7.522   \n",
      "4       Canada   North America               5            7.427   \n",
      "\n",
      "   Standard Error  Economy (GDP per Capita)   Family  \\\n",
      "0         0.03411                   1.39651  1.34951   \n",
      "1         0.04884                   1.30232  1.40223   \n",
      "2         0.03328                   1.32548  1.36058   \n",
      "3         0.03880                   1.45900  1.33095   \n",
      "4         0.03553                   1.32629  1.32261   \n",
      "\n",
      "   Health (Life Expectancy)  Freedom  Trust (Government Corruption)  \\\n",
      "0                   0.94143  0.66557                        0.41978   \n",
      "1                   0.94784  0.62877                        0.14145   \n",
      "2                   0.87464  0.64938                        0.48357   \n",
      "3                   0.88521  0.66973                        0.36503   \n",
      "4                   0.90563  0.63297                        0.32957   \n",
      "\n",
      "   Generosity  Dystopia Residual first_five_letters  \n",
      "0     0.29678            2.51738             Switze  \n",
      "1     0.43630            2.70201             Icelan  \n",
      "2     0.34139            2.49204             Denmar  \n",
      "3     0.34699            2.46531             Norway  \n",
      "4     0.45811            2.45176             Canada  \n"
     ]
    }
   ],
   "source": [
    "import pandas as dp\n",
    "url = \"https://raw.githubusercontent.com/dsrscientist/DSData/master/happiness_score_dataset.csv\"\n",
    "fd = dp.read_csv(url)\n",
    "print(\"Original DataFrame:\")\n",
    "print(fd.head())\n",
    "if 'Country' in fd.columns:\n",
    "    fd['first_five_letters'] = fd['Country'].apply(lambda x: x[:6])\n",
    "else:\n",
    "    print(\"'Country' column not found in the DataFrame\")\n",
    "print(\"\\nUpdated DataFrame with 'first_five_letters':\")\n",
    "print(fd.head())\n"
   ]
  },
  {
   "cell_type": "code",
   "execution_count": 79,
   "id": "fd6071c2",
   "metadata": {},
   "outputs": [
    {
     "name": "stdout",
     "output_type": "stream",
     "text": [
      "'Rauank_Deol_123' is valid\n",
      "'RaunakDeol123' is valid\n",
      "'Raunak Deol!' is invalid\n",
      "'123456' is valid\n"
     ]
    }
   ],
   "source": [
    "import re\n",
    "def match_string(s):\n",
    "    pattern = re.compile(r'^[A-Za-z0-9_]+$')\n",
    "    if pattern.match(s):\n",
    "        return True\n",
    "    else:\n",
    "        return False\n",
    "test_strings = [\n",
    "    \"Rauank_Deol_123\",   \n",
    "    \"RaunakDeol123\",    \n",
    "    \"Raunak Deol!\",    \n",
    "    \"123456\",             \n",
    "]\n",
    "for s in test_strings:\n",
    "    result = match_string(s)\n",
    "    print(f\"'{s}' is {'valid' if result else 'invalid'}\")\n"
   ]
  },
  {
   "cell_type": "code",
   "execution_count": 81,
   "id": "148a26be",
   "metadata": {},
   "outputs": [
    {
     "name": "stdout",
     "output_type": "stream",
     "text": [
      "'548aru' starts with '548': True\n",
      "'123rau' starts with '548': False\n",
      "'548rat' starts with '548': True\n",
      "'789' starts with '548': False\n",
      "'art123' starts with '548': False\n"
     ]
    }
   ],
   "source": [
    "import re\n",
    "def starts_with_number(s, number):\n",
    "    pattern =  re.compile(rf'^{number}')\n",
    "    match = pattern.match(s)\n",
    "    return match is not None\n",
    "number_to_check = '548' \n",
    "test_strings = [\n",
    "    \"548aru\",\n",
    "    \"123rau\",\n",
    "    \"548rat\",\n",
    "    \"789\",\n",
    "    \"art123\"\n",
    "]\n",
    "for s in test_strings:\n",
    "    result = starts_with_number(s, number_to_check)\n",
    "    print(f\"'{s}' starts with '{number_to_check}': {result}\")\n"
   ]
  },
  {
   "cell_type": "code",
   "execution_count": 82,
   "id": "1de7943c",
   "metadata": {},
   "outputs": [
    {
     "name": "stdout",
     "output_type": "stream",
     "text": [
      "Original IP: 191.171.021.001 -> Cleaned IP: 191.171.21.1\n",
      "Original IP: 50.022.010.001 -> Cleaned IP: 50.22.10.1\n",
      "Original IP: 172.016.000.256 -> Cleaned IP: 172.16.0.256\n",
      "Original IP: 524.554.545.595 -> Cleaned IP: 524.554.545.595\n",
      "Original IP: 000.000.000.000 -> Cleaned IP: 0.0.0.0\n"
     ]
    }
   ],
   "source": [
    "def remove_leading_zeros(ip_address):\n",
    "    segments = ip_address.split('.')\n",
    "    cleaned_segments = [str(int(segment)) for segment in segments]\n",
    "    cleaned_ip_address = '.'.join(cleaned_segments)  \n",
    "    return cleaned_ip_address\n",
    "ip_addresses = [\n",
    "    \"191.171.021.001\",\n",
    "    \"50.022.010.001\",\n",
    "    \"172.016.000.256\",\n",
    "    \"524.554.545.595\",\n",
    "    \"000.000.000.000\"\n",
    "]\n",
    "for ip in ip_addresses:\n",
    "    cleaned_ip = remove_leading_zeros(ip)\n",
    "    print(f\"Original IP: {ip} -> Cleaned IP: {cleaned_ip}\")\n"
   ]
  },
  {
   "cell_type": "code",
   "execution_count": 83,
   "id": "829e3de0",
   "metadata": {},
   "outputs": [
    {
     "name": "stdout",
     "output_type": "stream",
     "text": [
      "Sample txt has been written to 'a.txt'.\n",
      "August 15th 1947\n"
     ]
    }
   ],
   "source": [
    "a = 'On August 15th 1947 that India was declared independent from British colonialism, and the reins of control were handed over to the leaders of the Country.'\n",
    "filename = 'a.txt'\n",
    "with open(filename, 'w') as file:\n",
    "    file.write(a)\n",
    "print(f\"Sample txt has been written to '{filename}'.\")\n",
    "\n",
    "import re\n",
    "\n",
    "def extract_date_from_file(filename):\n",
    "    pattern =  re.compile(r'\\b[A-Za-z]+ \\d{1,2}(?:st|nd|rd|th)? \\d{4}\\b')\n",
    "    with open(filename, 'r') as file:\n",
    "        txt = file.read()\n",
    "    match = pattern.search(txt)   \n",
    "    if match:\n",
    "        return match.group()\n",
    "    else:\n",
    "        return \"No date found\"\n",
    "filename = 'a.txt'\n",
    "date_string = extract_date_from_file(filename)\n",
    "print(date_string)\n"
   ]
  },
  {
   "cell_type": "code",
   "execution_count": 84,
   "id": "3cd5dc45",
   "metadata": {},
   "outputs": [
    {
     "name": "stdout",
     "output_type": "stream",
     "text": [
      "'fox': Found\n",
      "'dog': Found\n",
      "'horse': Not Found\n"
     ]
    }
   ],
   "source": [
    "def search_words_in_txt(txt, words_to_search):\n",
    "    results = {}\n",
    "    for word in words_to_search:\n",
    "        if word in txt:\n",
    "            results[word] = \"Found\"\n",
    "        else:\n",
    "            results[word] = \"Not Found\"    \n",
    "    return results\n",
    "a = 'The quick brown fox jumps over the lazy dog.'\n",
    "words_to_search = ['fox', 'dog', 'horse']\n",
    "search_results = search_words_in_txt(a, words_to_search)\n",
    "for word, result in search_results.items():\n",
    "    print(f\"'{word}': {result}\")\n"
   ]
  },
  {
   "cell_type": "code",
   "execution_count": 85,
   "id": "5f3d7a8d",
   "metadata": {},
   "outputs": [
    {
     "name": "stdout",
     "output_type": "stream",
     "text": [
      "'fox' found at index 16\n"
     ]
    }
   ],
   "source": [
    "def search_word_location(txt, word_to_search):\n",
    "    index = txt.find(word_to_search)\n",
    "    if index != -1:\n",
    "        return f\"'{word_to_search}' found at index {index}\"\n",
    "    else:\n",
    "        return f\"'{word_to_search}' not found\"\n",
    "a = 'The quick brown fox jumps over the lazy dog.'\n",
    "word_to_search = 'fox'\n",
    "result = search_word_location(a, word_to_search)\n",
    "print(result)\n"
   ]
  },
  {
   "cell_type": "code",
   "execution_count": 86,
   "id": "ab982241",
   "metadata": {},
   "outputs": [
    {
     "name": "stdout",
     "output_type": "stream",
     "text": [
      "Pattern 'exercises' found at positions: [7, 22, 36]\n"
     ]
    }
   ],
   "source": [
    "import re\n",
    "def find_substrings(txt, pattern):\n",
    "    regex = re.compile(re.escape(pattern))\n",
    "    matches = [match.start() for match in regex.finditer(txt)]\n",
    "    \n",
    "    return matches\n",
    "a = 'Python exercises, PHP exercises, C# exercises'\n",
    "pattern =  'exercises'\n",
    "substr_locations = find_substrings(a, pattern)\n",
    "print(f\"Pattern '{pattern}' found at positions: {substr_locations}\")\n"
   ]
  },
  {
   "cell_type": "code",
   "execution_count": 89,
   "id": "e380f110",
   "metadata": {},
   "outputs": [
    {
     "name": "stdout",
     "output_type": "stream",
     "text": [
      "Pattern 'Raunak' found at positions: [0, 15, 28]\n"
     ]
    }
   ],
   "source": [
    "def find_substring_occurrences(txt, pattern):\n",
    "    positions = []\n",
    "    start = 0    \n",
    "    while True:\n",
    "        start = txt.find(pattern, start)\n",
    "        if start == -1:\n",
    "            break\n",
    "        positions.append(start)\n",
    "        start += len(pattern)    \n",
    "    return positions\n",
    "a = 'Raunak sleeps, Raunak eats, Raunak walks'\n",
    "pattern =  'Raunak'\n",
    "occurrences = find_substring_occurrences(a, pattern)\n",
    "print(f\"Pattern '{pattern}' found at positions: {occurrences}\")\n"
   ]
  },
  {
   "cell_type": "code",
   "execution_count": 90,
   "id": "3c6c7d32",
   "metadata": {},
   "outputs": [
    {
     "name": "stdout",
     "output_type": "stream",
     "text": [
      "Original date: 2024-08-24\n",
      "Converted date: 24-08-2024\n"
     ]
    }
   ],
   "source": [
    "def convert_date_format(date_str):\n",
    "    year, month, day = date_str.split('-')\n",
    "    \n",
    "    converted_date = f\"{day}-{month}-{year}\"\n",
    "    return converted_date\n",
    "date_input = '2024-08-24'\n",
    "converted_date = convert_date_format(date_input)\n",
    "print(f\"Original date: {date_input}\")\n",
    "print(f\"Converted date: {converted_date}\")\n"
   ]
  },
  {
   "cell_type": "code",
   "execution_count": 91,
   "id": "6def6a95",
   "metadata": {},
   "outputs": [
    {
     "name": "stdout",
     "output_type": "stream",
     "text": [
      "['01.12', '145.8', '3.01', '27.25', '0.25']\n"
     ]
    }
   ],
   "source": [
    "import re\n",
    "def find_decimal_numbers(txt):\n",
    "    pattern =  re.compile(r'\\b\\d+\\.\\d{1,2}\\b')\n",
    "    matches = pattern.findall(txt)    \n",
    "    return matches\n",
    "\n",
    "a = \"01.12 0132.123 2.31875 145.8 3.01 27.25 0.25\"\n",
    "decimal_numbers = find_decimal_numbers(a)\n",
    "print(decimal_numbers)\n"
   ]
  },
  {
   "cell_type": "code",
   "execution_count": 92,
   "id": "8549bf10",
   "metadata": {},
   "outputs": [
    {
     "name": "stdout",
     "output_type": "stream",
     "text": [
      "Number and their positions:\n",
      "Number: 23.5, Position: 21\n",
      "Number: 17, Position: 35\n",
      "Number: 99.9, Position: 42\n"
     ]
    }
   ],
   "source": [
    "import re\n",
    "def find_numbers_and_positions(txt):\n",
    "    pattern =  re.compile(r'\\b\\d+(\\.\\d+)?\\b')\n",
    "    matches = pattern.finditer(txt)\n",
    "    results = []\n",
    "    for match in matches:\n",
    "        number = match.group()       \n",
    "        position = match.start()     \n",
    "        results.append((number, position))    \n",
    "    return results\n",
    "a = \"The temperatures are 23.5 degrees, 17 and 99.9 degrees.\"\n",
    "numbers_with_positions = find_numbers_and_positions(a)\n",
    "print(\"Number and their positions:\")\n",
    "for number, position in numbers_with_positions:\n",
    "    print(f\"Number: {number}, Position: {position}\")\n"
   ]
  },
  {
   "cell_type": "code",
   "execution_count": 93,
   "id": "22786c10",
   "metadata": {},
   "outputs": [
    {
     "name": "stdout",
     "output_type": "stream",
     "text": [
      "Maximum numeric value: 950\n"
     ]
    }
   ],
   "source": [
    "import re\n",
    "def find_max_numeric_value(txt):\n",
    "    pattern =  re.compile(r'\\b\\d+\\b')\n",
    "    matches = pattern.findall(txt)\n",
    "    numbers = [int(match) for match in matches]\n",
    "    if numbers:\n",
    "        return max(numbers)\n",
    "    else:\n",
    "        return None\n",
    "a = 'My marks in each semester are: 947, 896, 926, 524, 734, 950, 642'\n",
    "max_value = find_max_numeric_value(a)\n",
    "print(f\"Maximum numeric value: {max_value}\")\n"
   ]
  },
  {
   "cell_type": "code",
   "execution_count": 96,
   "id": "ebb54d11",
   "metadata": {},
   "outputs": [
    {
     "name": "stdout",
     "output_type": "stream",
     "text": [
      "Regular Expressionis An Important Topic In Python\n"
     ]
    }
   ],
   "source": [
    "import re\n",
    "def insert_spaces(s):\n",
    "    pattern = re.compile(r'(?<!^)(?<!\\s)(?=[A-Z])')\n",
    "    result = pattern.sub(' ', s)   \n",
    "    return result\n",
    "a = \"RegularExpressionisAnImportantTopicInPython\"\n",
    "output = insert_spaces(a)\n",
    "print(output)\n"
   ]
  },
  {
   "cell_type": "code",
   "execution_count": 107,
   "id": "4eb9409b",
   "metadata": {},
   "outputs": [
    {
     "name": "stdout",
     "output_type": "stream",
     "text": [
      "Sequences of one uppercase letter followed by lowercase letters:\n",
      "['The', 'Regular']\n"
     ]
    }
   ],
   "source": [
    "import re\n",
    "def find_uppercase_followed_by_lowercase(txt):\n",
    "    pattern =  re.compile(r'\\b[A-Z][a-z]+\\b')\n",
    "    matches = pattern.findall(txt)   \n",
    "    return matches\n",
    "a = \"The Regular ExpressionIsAnImportantTopicInPython\"\n",
    "sequences = find_uppercase_followed_by_lowercase(a)\n",
    "print(\"Sequences of one uppercase letter followed by lowercase letters:\")\n",
    "print(sequences)\n"
   ]
  },
  {
   "cell_type": "code",
   "execution_count": 109,
   "id": "3f43d0f3",
   "metadata": {},
   "outputs": [
    {
     "name": "stdout",
     "output_type": "stream",
     "text": [
      "Original txt: 'Hello hello world world'\n",
      "Txt after removing duplicates: 'Hello hello world'\n"
     ]
    }
   ],
   "source": [
    "import re\n",
    "def remove_continuous_duplicates(txt):\n",
    "    pattern =  re.compile(r'\\b(\\w+)\\s+\\1\\b')\n",
    "    result = pattern.sub(r'\\1', txt)    \n",
    "    return result\n",
    "a = \"Hello hello world world\"\n",
    "cleaned_txt = remove_continuous_duplicates(a)\n",
    "print(f\"Original txt: '{a}'\")\n",
    "print(f\"Txt after removing duplicates: '{cleaned_txt}'\")\n"
   ]
  },
  {
   "cell_type": "code",
   "execution_count": 112,
   "id": "5f55a0ab",
   "metadata": {},
   "outputs": [
    {
     "name": "stdout",
     "output_type": "stream",
     "text": [
      "Does the string 'This is a test string with number abc.' end with an alphanumeric character? False\n"
     ]
    }
   ],
   "source": [
    "import re\n",
    "def check_string_ends_with_alphanumeric(txt):\n",
    "    pattern =  re.compile(r'\\w$')\n",
    "    match = pattern.search(txt)\n",
    "    return match is not None\n",
    "a = \"This is a test string with number abc.\"\n",
    "result = check_string_ends_with_alphanumeric(a)\n",
    "print(f\"Does the string '{a}' end with an alphanumeric character? {result}\")\n"
   ]
  },
  {
   "cell_type": "code",
   "execution_count": 113,
   "id": "10f25ceb",
   "metadata": {},
   "outputs": [
    {
     "name": "stdout",
     "output_type": "stream",
     "text": [
      "Extracted hashtags:\n",
      "['#Doltiwal', '#xyzabc', '#Demonetization']\n"
     ]
    }
   ],
   "source": [
    "import re\n",
    "def extract_hashtags(txt):\n",
    "    pattern =  re.compile(r'#\\w+')\n",
    "    hashtags = pattern.findall(txt)   \n",
    "    return hashtags\n",
    "a = \"\"\"RT @kapil_kausik: #Doltiwal I mean #xyzabc is \"hurt\" by #Demonetization as the same has rendered USELESS <ed><U+00A0><U+00BD><ed><U+00B1><U+0089> \"acquired funds\" No wo\"\"\"\n",
    "hashtags = extract_hashtags(a)\n",
    "print(\"Extracted hashtags:\")\n",
    "print(hashtags)\n"
   ]
  },
  {
   "cell_type": "code",
   "execution_count": 114,
   "id": "34fd1023",
   "metadata": {},
   "outputs": [
    {
     "name": "stdout",
     "output_type": "stream",
     "text": [
      "Original txt:\n",
      "@Jags123456 Bharat band on 28??<ed><U+00A0><U+00BD><ed><U+00B8><U+0082>Those who  are protesting #demonetization  are all different party leaders\n",
      "\n",
      "Txt after removing <U+..> symbols:\n",
      "@Jags123456 Bharat band on 28??<ed><ed>Those who  are protesting #demonetization  are all different party leaders\n"
     ]
    }
   ],
   "source": [
    "import re\n",
    "def remove_unicode_symbols(txt):\n",
    "    pattern =  re.compile(r'<U\\+[0-9A-Fa-f]{4,}>')\n",
    "    cleaned_txt = pattern.sub('', txt)    \n",
    "    return cleaned_txt\n",
    "a = \"@Jags123456 Bharat band on 28??<ed><U+00A0><U+00BD><ed><U+00B8><U+0082>Those who  are protesting #demonetization  are all different party leaders\"\n",
    "cleaned_txt = remove_unicode_symbols(a)\n",
    "print(\"Original txt:\")\n",
    "print(a)\n",
    "print(\"\\nTxt after removing <U+..> symbols:\")\n",
    "print(cleaned_txt)\n"
   ]
  },
  {
   "cell_type": "code",
   "execution_count": 115,
   "id": "2810f7fe",
   "metadata": {},
   "outputs": [
    {
     "name": "stdout",
     "output_type": "stream",
     "text": [
      "Extracted dates:\n",
      "['12-09-1992', '15-12-1999']\n"
     ]
    }
   ],
   "source": [
    "import re\n",
    "def store_a(filename):\n",
    "    a = \"Ron was born on 12-09-1992 and he was admitted to school 15-12-1999.\"\n",
    "    with open(filename, 'w') as file:\n",
    "        file.write(a)\n",
    "\n",
    "def extract_dates_from_file(filename):\n",
    "    pattern =  re.compile(r'\\b\\d{2}-\\d{2}-\\d{4}\\b')    \n",
    "    with open(filename, 'r') as file:\n",
    "        txt = file.read()\n",
    "    dates = pattern.findall(txt)    \n",
    "    return dates\n",
    "filename = 'a.txt'\n",
    "store_a(filename)\n",
    "dates = extract_dates_from_file(filename)\n",
    "print(\"Extracted dates:\")\n",
    "print(dates)\n"
   ]
  },
  {
   "cell_type": "code",
   "execution_count": 116,
   "id": "f8f93ccb",
   "metadata": {},
   "outputs": [
    {
     "name": "stdout",
     "output_type": "stream",
     "text": [
      "Original txt:\n",
      "The following example creates an ArrayList with a capacity of 50 elements. 4 elements are then added to the ArrayList and the ArrayList is trimmed accordingly.\n",
      "\n",
      "Txt after removing words of length 2 to 4:\n",
      "following example creates ArrayList a capacity elements. 4 elements added ArrayList ArrayList trimmed accordingly.\n"
     ]
    }
   ],
   "source": [
    "import re\n",
    "def remove_short_words(txt):\n",
    "    pattern =  re.compile(r'\\b\\w{2,4}\\b')    \n",
    "    result = pattern.sub('', txt)\n",
    "    result = re.sub(r'\\s+', ' ', result).strip()    \n",
    "    return result\n",
    "a = \"The following example creates an ArrayList with a capacity of 50 elements. 4 elements are then added to the ArrayList and the ArrayList is trimmed accordingly.\"\n",
    "cleaned_txt = remove_short_words(a)\n",
    "print(\"Original txt:\") \n",
    "print(a) \n",
    "print(\"\\nTxt after removing words of length 2 to 4:\") \n",
    "print(cleaned_txt)\n",
    "\n"
   ]
  },
  {
   "cell_type": "code",
   "execution_count": null,
   "id": "a0b09131",
   "metadata": {},
   "outputs": [],
   "source": []
  }
 ],
 "metadata": {
  "kernelspec": {
   "display_name": "Python 3 (ipykernel)",
   "language": "python",
   "name": "python3"
  },
  "language_info": {
   "codemirror_mode": {
    "name": "ipython",
    "version": 3
   },
   "file_extension": ".py",
   "mimetype": "text/x-python",
   "name": "python",
   "nbconvert_exporter": "python",
   "pygments_lexer": "ipython3",
   "version": "3.11.5"
  }
 },
 "nbformat": 4,
 "nbformat_minor": 5
}
